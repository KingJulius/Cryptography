{
  "nbformat": 4,
  "nbformat_minor": 0,
  "metadata": {
    "colab": {
      "name": "Caesar Cipher.ipynb",
      "provenance": [],
      "collapsed_sections": []
    },
    "kernelspec": {
      "name": "python3",
      "display_name": "Python 3"
    },
    "language_info": {
      "name": "python"
    }
  },
  "cells": [
    {
      "cell_type": "markdown",
      "source": [
        "# Caesar Cipher"
      ],
      "metadata": {
        "id": "EHiai-T35579"
      }
    },
    {
      "cell_type": "code",
      "source": [
        "class CaesarCipher:\n",
        "  '''\n",
        "  Caesar Cipher a type of substitution cipher in which each letter in the plaintext is replaced by a letter some fixed number of positions down the alphabet. \n",
        "  '''\n",
        "  def encrypt(self, text, shift):\n",
        "    '''\n",
        "    Input : Characters A-Z and spaces, Shift : Any Positive or Negative Integer, Output: Cipher Text\n",
        "    '''\n",
        "    cipher = \"\"\n",
        "    for i in range(len(text)):\n",
        "      if text[i] != \" \":\n",
        "        if (ord(text[i]) + shift <= 90) and (65 <= ord(text[i]) + shift):\n",
        "          cipher += chr(ord(text[i]) + shift)\n",
        "        elif 65 > ord(text[i]) + shift:\n",
        "          diff = 65 - (ord(text[i]) + shift)\n",
        "          cipher += chr(91-diff)\n",
        "        else:\n",
        "          cipher += chr(64 + (ord(text[i]) + shift)%90)\n",
        "      else:\n",
        "        cipher += \" \"\n",
        "    return cipher\n",
        "\n",
        "  def get_key(self, text, cipher):\n",
        "    '''\n",
        "    Returns key else returns -1 if cipher has a different encryption or text length varies from cipher text length\n",
        "    '''\n",
        "    if len(text) == len(cipher):\n",
        "      text = text.replace(\" \", \"\")\n",
        "      cipher = cipher.replace(\" \",\"\")\n",
        "      diff = ord(text[0]) - ord(cipher[0]) if ord(cipher[0]) < ord(text[0]) else ord(cipher[0]) - ord(text[0])\n",
        "      i = 1\n",
        "      while i < len(text):\n",
        "        new_diff = ord(text[i]) - ord(cipher[i]) if ord(cipher[i]) < ord(text[i]) else ord(cipher[i]) - ord(text[i])\n",
        "        if new_diff != diff:\n",
        "          print(\"Not Caesar Encryption!\")\n",
        "          return -1\n",
        "        i += 1\n",
        "      return diff    \n",
        "    else:\n",
        "      print(\"Incorrect Parameters!\")\n",
        "      return -1"
      ],
      "metadata": {
        "id": "d-5aTV9MqGmQ"
      },
      "execution_count": 67,
      "outputs": []
    },
    {
      "cell_type": "code",
      "source": [
        "caesar_cipher = CaesarCipher()\n",
        "text = \"SECURITY IS IMPORTANT\"\n",
        "print(text)"
      ],
      "metadata": {
        "colab": {
          "base_uri": "https://localhost:8080/"
        },
        "id": "4wJS1SfbHeI2",
        "outputId": "93ad2dc4-f3c2-4fcb-bf16-212beb9bb38e"
      },
      "execution_count": 68,
      "outputs": [
        {
          "output_type": "stream",
          "name": "stdout",
          "text": [
            "SECURITY IS IMPORTANT\n"
          ]
        }
      ]
    },
    {
      "cell_type": "code",
      "source": [
        "for i in range(0, 13):\n",
        "  print(caesar_cipher.encrypt(text, i))"
      ],
      "metadata": {
        "colab": {
          "base_uri": "https://localhost:8080/"
        },
        "id": "3iWWrIKEj5Li",
        "outputId": "f98c1348-03c7-442d-9d4e-2835efc95bc2"
      },
      "execution_count": 69,
      "outputs": [
        {
          "output_type": "stream",
          "name": "stdout",
          "text": [
            "SECURITY IS IMPORTANT\n",
            "TFDVSJUZ JT JNQPSUBOU\n",
            "UGEWTKVA KU KORQTVCPV\n",
            "VHFXULWB LV LPSRUWDQW\n",
            "WIGYVMXC MW MQTSVXERX\n",
            "XJHZWNYD NX NRUTWYFSY\n",
            "YKIAXOZE OY OSVUXZGTZ\n",
            "ZLJBYPAF PZ PTWVYAHUA\n",
            "AMKCZQBG QA QUXWZBIVB\n",
            "BNLDARCH RB RVYXACJWC\n",
            "COMEBSDI SC SWZYBDKXD\n",
            "DPNFCTEJ TD TXAZCELYE\n",
            "EQOGDUFK UE UYBADFMZF\n"
          ]
        }
      ]
    },
    {
      "cell_type": "code",
      "source": [
        "cipher = caesar_cipher.encrypt(text, 13)\n",
        "print(cipher)"
      ],
      "metadata": {
        "colab": {
          "base_uri": "https://localhost:8080/"
        },
        "id": "qLYRvCbRhvsw",
        "outputId": "6294ddf5-2215-41f9-b54e-f94c0c04f3a6"
      },
      "execution_count": 70,
      "outputs": [
        {
          "output_type": "stream",
          "name": "stdout",
          "text": [
            "FRPHEVGL VF VZCBEGNAG\n"
          ]
        }
      ]
    },
    {
      "cell_type": "code",
      "source": [
        "for i in range(-1, -6, -1):\n",
        "  print(caesar_cipher.encrypt(text, i))"
      ],
      "metadata": {
        "colab": {
          "base_uri": "https://localhost:8080/"
        },
        "id": "PMix5wPbkIGu",
        "outputId": "870b05b4-a146-4d8e-b786-39cdf7d3a760"
      },
      "execution_count": 71,
      "outputs": [
        {
          "output_type": "stream",
          "name": "stdout",
          "text": [
            "RDBTQHSX HR HLONQSZMS\n",
            "QCASPGRW GQ GKNMPRYLR\n",
            "PBZROFQV FP FJMLOQXKQ\n",
            "OAYQNEPU EO EILKNPWJP\n",
            "NZXPMDOT DN DHKJMOVIO\n"
          ]
        }
      ]
    },
    {
      "cell_type": "code",
      "source": [
        "print(caesar_cipher.get_key(text, cipher))"
      ],
      "metadata": {
        "colab": {
          "base_uri": "https://localhost:8080/"
        },
        "id": "FezO8N46weiy",
        "outputId": "fb6106b7-2553-448e-9538-f583c73e7a81"
      },
      "execution_count": 72,
      "outputs": [
        {
          "output_type": "stream",
          "name": "stdout",
          "text": [
            "13\n"
          ]
        }
      ]
    },
    {
      "cell_type": "code",
      "source": [
        "print(caesar_cipher.get_key(text, \"KEY\"))"
      ],
      "metadata": {
        "colab": {
          "base_uri": "https://localhost:8080/"
        },
        "id": "sEzRv7PIcJWc",
        "outputId": "39afbe36-a718-4adb-84bc-4ce719bea90a"
      },
      "execution_count": 73,
      "outputs": [
        {
          "output_type": "stream",
          "name": "stdout",
          "text": [
            "Incorrect Parameters!\n",
            "-1\n"
          ]
        }
      ]
    },
    {
      "cell_type": "code",
      "source": [
        "print(caesar_cipher.get_key(text, \"FRPHEVGR VF VZCBEGNAG\"))"
      ],
      "metadata": {
        "colab": {
          "base_uri": "https://localhost:8080/"
        },
        "id": "v7SSRpxCcOrr",
        "outputId": "f34f488e-90f0-4787-dfcb-f2872f147261"
      },
      "execution_count": 74,
      "outputs": [
        {
          "output_type": "stream",
          "name": "stdout",
          "text": [
            "Not Caesar Encryption!\n",
            "-1\n"
          ]
        }
      ]
    }
  ]
}