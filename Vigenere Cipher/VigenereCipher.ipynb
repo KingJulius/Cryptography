{
  "nbformat": 4,
  "nbformat_minor": 0,
  "metadata": {
    "colab": {
      "name": "VigenereCipher.ipynb",
      "provenance": [],
      "collapsed_sections": []
    },
    "kernelspec": {
      "name": "python3",
      "display_name": "Python 3"
    },
    "language_info": {
      "name": "python"
    }
  },
  "cells": [
    {
      "cell_type": "markdown",
      "source": [
        "# Vigenere Cipher"
      ],
      "metadata": {
        "id": "Xy-vApthZyRw"
      }
    },
    {
      "cell_type": "code",
      "source": [
        "class VigenereCipher:\n",
        "  '''\n",
        "  The Vigenère cipher is a method of encrypting alphabetic text by using a series of interwoven Caesar ciphers, \n",
        "  based on the letters of a keyword. It employs a form of polyalphabetic substitution.\n",
        "  '''\n",
        "  def __init__(self):\n",
        "    self.alphabets = \"ABCDEFGHIJKLMNOPQRSTUVWXYZ\"\n",
        "    self.lookuptable = [[\" \" for __ in range(len(self.alphabets))] for _ in range(len(self.alphabets))]\n",
        "    self.init_lookup_table()\n",
        "\n",
        "  def init_lookup_table(self):\n",
        "    '''\n",
        "    Look Up Table Created During Initialization\n",
        "    '''\n",
        "    for i in range(len(self.alphabets)):\n",
        "      for j in range(len(self.alphabets)):\n",
        "        if 65 + i +j <= 90:\n",
        "          self.lookuptable[i][j] = chr(65+j+i)\n",
        "        else:\n",
        "          self.lookuptable[i][j] = chr(64 + (65+j+i)%90)\n",
        "\n",
        "\n",
        "  def print_lookup_table(self):\n",
        "    for i in range(len(self.alphabets)):\n",
        "      for j in range(len(self.alphabets)):\n",
        "        print(self.lookuptable[i][j], end=\" \")\n",
        "      print(\"\\n\")\n",
        "\n",
        "\n",
        "  def encrypt(self, plaintext, key):\n",
        "    '''\n",
        "    Encrypts the plaintext if length of key matches length of plaintext\n",
        "    else extends the key to match the plaintext to fit this criteria\n",
        "    Character to Character Encryption\n",
        "    '''\n",
        "    keystream = \"\"\n",
        "    ciphertext = \"\"\n",
        "    if len(plaintext) != len(key):\n",
        "      i = 0\n",
        "      for k in range(len(plaintext)):\n",
        "        if plaintext[k] != \" \":\n",
        "          keystream += key[i]\n",
        "          i = (i+1)%len(key)\n",
        "        else:\n",
        "          keystream += \" \"\n",
        "    else:\n",
        "      keystream = key\n",
        "    for j in range(len(plaintext)):\n",
        "      if plaintext[j] != \" \":\n",
        "        ciphertext += self.lookuptable[self.alphabets.find(keystream[j])][self.alphabets.find(plaintext[j])]\n",
        "      else:\n",
        "        ciphertext += \" \"\n",
        "    return ciphertext\n",
        "  \n",
        "\n",
        "  def decrypt(self, ciphertext, key):\n",
        "    '''\n",
        "    Decrypts the ciphertext if length of key matches length of ciphertext\n",
        "    else extends the key to match the ciphertext to fit this criteria\n",
        "    Character to Character Decryption\n",
        "    '''\n",
        "    keystream = \"\"\n",
        "    if len(ciphertext) != len(key):\n",
        "      i = 0\n",
        "      for k in range(len(ciphertext)):\n",
        "        if ciphertext[k] != \" \":\n",
        "          keystream += key[i]\n",
        "          i = (i+1)%len(key)\n",
        "        else:\n",
        "          keystream += \" \"\n",
        "    else:\n",
        "      keystream = key\n",
        "    decrypted_msg = \"\"\n",
        "    for j in range(len(ciphertext)):\n",
        "      if ciphertext[j] != \" \":\n",
        "        pos = self.lookuptable[self.alphabets.find(keystream[j])].index(ciphertext[j])\n",
        "        decrypted_msg += self.alphabets[pos]\n",
        "      else:\n",
        "        decrypted_msg += \" \"\n",
        "    return decrypted_msg"
      ],
      "metadata": {
        "id": "URkA50-KrCMD"
      },
      "execution_count": 14,
      "outputs": []
    },
    {
      "cell_type": "code",
      "source": [
        "vigenere_cipher = VigenereCipher()\n",
        "message = \"ATTACKATDAWN\"\n",
        "key  = \"LEMON\"\n",
        "ciphertext = vigenere_cipher.encrypt(message, key)\n",
        "ciphertext"
      ],
      "metadata": {
        "colab": {
          "base_uri": "https://localhost:8080/",
          "height": 35
        },
        "id": "7Smv9QHjrsH0",
        "outputId": "00142fef-d992-46db-c192-0896816781e0"
      },
      "execution_count": 15,
      "outputs": [
        {
          "output_type": "execute_result",
          "data": {
            "application/vnd.google.colaboratory.intrinsic+json": {
              "type": "string"
            },
            "text/plain": [
              "'LXFOPVEFRNHR'"
            ]
          },
          "metadata": {},
          "execution_count": 15
        }
      ]
    },
    {
      "cell_type": "code",
      "source": [
        "received_message = vigenere_cipher.decrypt(ciphertext, key)\n",
        "received_message"
      ],
      "metadata": {
        "colab": {
          "base_uri": "https://localhost:8080/",
          "height": 35
        },
        "id": "gTXJol45r59z",
        "outputId": "3f5ac2b5-7428-4748-eb5b-c9afe91f1c80"
      },
      "execution_count": 16,
      "outputs": [
        {
          "output_type": "execute_result",
          "data": {
            "application/vnd.google.colaboratory.intrinsic+json": {
              "type": "string"
            },
            "text/plain": [
              "'ATTACKATDAWN'"
            ]
          },
          "metadata": {},
          "execution_count": 16
        }
      ]
    },
    {
      "cell_type": "code",
      "source": [
        "vigenere_cipher.encrypt(\"I LOOVE PEANUTS\", \"BANANA\")"
      ],
      "metadata": {
        "colab": {
          "base_uri": "https://localhost:8080/",
          "height": 35
        },
        "id": "Vos261ACvqK-",
        "outputId": "151562d1-b206-4e16-da68-20d7628a2d79"
      },
      "execution_count": 17,
      "outputs": [
        {
          "output_type": "execute_result",
          "data": {
            "application/vnd.google.colaboratory.intrinsic+json": {
              "type": "string"
            },
            "text/plain": [
              "'J LBOIE QENNHTT'"
            ]
          },
          "metadata": {},
          "execution_count": 17
        }
      ]
    },
    {
      "cell_type": "code",
      "source": [
        "vigenere_cipher.decrypt(vigenere_cipher.encrypt(\"I LOOVE PEANUTS\", \"BANANA\"), \"BANANA\")"
      ],
      "metadata": {
        "colab": {
          "base_uri": "https://localhost:8080/",
          "height": 35
        },
        "id": "ySvDs4CAxLob",
        "outputId": "ed4916cf-653f-49c8-b048-202e10408cd5"
      },
      "execution_count": 18,
      "outputs": [
        {
          "output_type": "execute_result",
          "data": {
            "application/vnd.google.colaboratory.intrinsic+json": {
              "type": "string"
            },
            "text/plain": [
              "'I LOOVE PEANUTS'"
            ]
          },
          "metadata": {},
          "execution_count": 18
        }
      ]
    },
    {
      "cell_type": "code",
      "source": [
        "vigenere_cipher.encrypt(\"THIS IS AMAZING\", \"HORRIBLE\")"
      ],
      "metadata": {
        "colab": {
          "base_uri": "https://localhost:8080/",
          "height": 35
        },
        "id": "LpRFjz0wUdd-",
        "outputId": "94fd141f-38d1-43f7-de97-06f03d65616f"
      },
      "execution_count": 20,
      "outputs": [
        {
          "output_type": "execute_result",
          "data": {
            "application/vnd.google.colaboratory.intrinsic+json": {
              "type": "string"
            },
            "text/plain": [
              "'AVZJ QT LQHNZEO'"
            ]
          },
          "metadata": {},
          "execution_count": 20
        }
      ]
    },
    {
      "cell_type": "code",
      "source": [
        "vigenere_cipher.decrypt(vigenere_cipher.encrypt(\"THIS IS AMAZING\", \"HORRIBLE\"), \"HORRIBLE\")"
      ],
      "metadata": {
        "colab": {
          "base_uri": "https://localhost:8080/",
          "height": 35
        },
        "id": "JT5sqmC6Ud8V",
        "outputId": "f1d58b4b-f8a5-4425-dce5-e34a1f82e0dc"
      },
      "execution_count": 21,
      "outputs": [
        {
          "output_type": "execute_result",
          "data": {
            "application/vnd.google.colaboratory.intrinsic+json": {
              "type": "string"
            },
            "text/plain": [
              "'THIS IS AMAZING'"
            ]
          },
          "metadata": {},
          "execution_count": 21
        }
      ]
    },
    {
      "cell_type": "code",
      "source": [
        "vigenere_cipher.decrypt(vigenere_cipher.encrypt(\"THIS IS AMAZING\", \"HORRIBLE\"), \"BANANA\")"
      ],
      "metadata": {
        "colab": {
          "base_uri": "https://localhost:8080/",
          "height": 35
        },
        "id": "_NXGbPN0Uw7P",
        "outputId": "8e108add-7317-4eb3-c0d2-49138b07c20e"
      },
      "execution_count": 22,
      "outputs": [
        {
          "output_type": "execute_result",
          "data": {
            "application/vnd.google.colaboratory.intrinsic+json": {
              "type": "string"
            },
            "text/plain": [
              "'ZVMJ DT KQUNMEN'"
            ]
          },
          "metadata": {},
          "execution_count": 22
        }
      ]
    },
    {
      "cell_type": "code",
      "source": [
        "vigenere_cipher.print_lookup_table()"
      ],
      "metadata": {
        "colab": {
          "base_uri": "https://localhost:8080/"
        },
        "id": "jvtkHvjL3LJ_",
        "outputId": "74a162f0-c401-4363-deb7-40983f9e4bf0"
      },
      "execution_count": 19,
      "outputs": [
        {
          "output_type": "stream",
          "name": "stdout",
          "text": [
            "A B C D E F G H I J K L M N O P Q R S T U V W X Y Z \n",
            "\n",
            "B C D E F G H I J K L M N O P Q R S T U V W X Y Z A \n",
            "\n",
            "C D E F G H I J K L M N O P Q R S T U V W X Y Z A B \n",
            "\n",
            "D E F G H I J K L M N O P Q R S T U V W X Y Z A B C \n",
            "\n",
            "E F G H I J K L M N O P Q R S T U V W X Y Z A B C D \n",
            "\n",
            "F G H I J K L M N O P Q R S T U V W X Y Z A B C D E \n",
            "\n",
            "G H I J K L M N O P Q R S T U V W X Y Z A B C D E F \n",
            "\n",
            "H I J K L M N O P Q R S T U V W X Y Z A B C D E F G \n",
            "\n",
            "I J K L M N O P Q R S T U V W X Y Z A B C D E F G H \n",
            "\n",
            "J K L M N O P Q R S T U V W X Y Z A B C D E F G H I \n",
            "\n",
            "K L M N O P Q R S T U V W X Y Z A B C D E F G H I J \n",
            "\n",
            "L M N O P Q R S T U V W X Y Z A B C D E F G H I J K \n",
            "\n",
            "M N O P Q R S T U V W X Y Z A B C D E F G H I J K L \n",
            "\n",
            "N O P Q R S T U V W X Y Z A B C D E F G H I J K L M \n",
            "\n",
            "O P Q R S T U V W X Y Z A B C D E F G H I J K L M N \n",
            "\n",
            "P Q R S T U V W X Y Z A B C D E F G H I J K L M N O \n",
            "\n",
            "Q R S T U V W X Y Z A B C D E F G H I J K L M N O P \n",
            "\n",
            "R S T U V W X Y Z A B C D E F G H I J K L M N O P Q \n",
            "\n",
            "S T U V W X Y Z A B C D E F G H I J K L M N O P Q R \n",
            "\n",
            "T U V W X Y Z A B C D E F G H I J K L M N O P Q R S \n",
            "\n",
            "U V W X Y Z A B C D E F G H I J K L M N O P Q R S T \n",
            "\n",
            "V W X Y Z A B C D E F G H I J K L M N O P Q R S T U \n",
            "\n",
            "W X Y Z A B C D E F G H I J K L M N O P Q R S T U V \n",
            "\n",
            "X Y Z A B C D E F G H I J K L M N O P Q R S T U V W \n",
            "\n",
            "Y Z A B C D E F G H I J K L M N O P Q R S T U V W X \n",
            "\n",
            "Z A B C D E F G H I J K L M N O P Q R S T U V W X Y \n",
            "\n"
          ]
        }
      ]
    }
  ]
}